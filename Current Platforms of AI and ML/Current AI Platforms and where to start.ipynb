{
 "cells": [
  {
   "cell_type": "markdown",
   "metadata": {},
   "source": [
    "<img src= 'plt.jpg' style=\"width:700px;height:400px;\"/>\n",
    "\n",
    "# Big-Bio Data Analysis\n",
    "\n",
    "by `Atwine Mugume Twinamatsiko`  [Github](https://github.com/atwine), [LinkedIn](https://www.linkedin.com/in/mugume-twinamatsiko-atwine-976ab12b/)\n",
    "\n",
    "#### What questions we need to answer in this lecture:\n",
    "\n",
    "- What is this course about? (What is big data?)\n",
    "- What is Artificial Intelligence and ML.\n",
    "- How have these fields impacted the health sector.\n",
    "- Where do I start? What do I need?\n",
    "\n",
    "\n",
    "#### Normally in order to practice you need to have a powerful computer:\n",
    "\n",
    "- Python\n",
    "- R\n",
    "\n",
    "#### At the end of this tutorial you will learn the following:\n",
    "\n",
    "- Learning Platforms for Machine Learning and AI.\n",
    "- Editors for your code(Jupyter Notebook,R-studio).\n",
    "- Simple intro to `Numpy`.\n",
    "- Simple intro to `Pandas`.\n",
    "- Simple intro to `Matplotlib`\n",
    "- Simple intro to `tidyverse`"
   ]
  },
  {
   "cell_type": "markdown",
   "metadata": {},
   "source": [
    "<div class=\"alert alert-block alert-success\"/>"
   ]
  },
  {
   "cell_type": "markdown",
   "metadata": {},
   "source": [
    "<div class=\"alert alert-block alert-success\"/>"
   ]
  },
  {
   "cell_type": "markdown",
   "metadata": {},
   "source": [
    "<div class=\"alert alert-block alert-success\"/>"
   ]
  },
  {
   "cell_type": "markdown",
   "metadata": {},
   "source": [
    "<div class=\"alert alert-block alert-warning\"/>"
   ]
  },
  {
   "cell_type": "markdown",
   "metadata": {},
   "source": [
    "<div class=\"alert alert-info\"/></div>"
   ]
  },
  {
   "cell_type": "code",
   "execution_count": 1,
   "metadata": {},
   "outputs": [
    {
     "name": "stderr",
     "output_type": "stream",
     "text": [
      "/opt/anaconda3/lib/python3.7/site-packages/IPython/core/display.py:694: UserWarning: Consider using IPython.display.IFrame instead\n",
      "  warnings.warn(\"Consider using IPython.display.IFrame instead\")\n"
     ]
    },
    {
     "data": {
      "text/html": [
       "<iframe width=\"650\" height=\"400\" src=\"https://www.youtube.com/embed/drSpCwDFwnM\" frameborder=\"0\" allow=\"accelerometer; autoplay; encrypted-media; gyroscope; picture-in-picture\" allowfullscreen></iframe>"
      ],
      "text/plain": [
       "<IPython.core.display.HTML object>"
      ]
     },
     "execution_count": 1,
     "metadata": {},
     "output_type": "execute_result"
    }
   ],
   "source": [
    "#introduction to swift for ML\n",
    "from IPython.display import HTML\n",
    "\n",
    "# Youtube\n",
    "HTML('<iframe width=\"650\" height=\"400\" src=\"https://www.youtube.com/embed/drSpCwDFwnM\" frameborder=\"0\" allow=\"accelerometer; autoplay; encrypted-media; gyroscope; picture-in-picture\" allowfullscreen></iframe>')\n"
   ]
  },
  {
   "cell_type": "markdown",
   "metadata": {},
   "source": [
    "<div class=\"alert alert-info\"/></div>"
   ]
  },
  {
   "cell_type": "markdown",
   "metadata": {},
   "source": [
    "# Practicing Platforms:\n",
    "\n",
    "These are platforms that you can access GPUs for free:\n",
    "\n",
    "\n",
    "- ### [Kaggle](kaggle.com)\n",
    "\n",
    "<img src='kaggle.png'/>"
   ]
  },
  {
   "cell_type": "markdown",
   "metadata": {},
   "source": [
    "<div class=\"alert alert-info\"/></div>"
   ]
  },
  {
   "cell_type": "markdown",
   "metadata": {},
   "source": [
    "- ## [Zindi](www.zindi.africa)\n",
    "\n",
    "<img src='zindi.png'/>"
   ]
  },
  {
   "cell_type": "markdown",
   "metadata": {},
   "source": [
    "<div class=\"alert alert-info\"/></div>"
   ]
  },
  {
   "cell_type": "markdown",
   "metadata": {},
   "source": [
    "- ## [Google Colab](colab.research.google.com)\n",
    "\n",
    "Here you can get:(free)\n",
    "- GPU\n",
    "- TPU\n",
    "\n",
    "<img src='colab.png'/>"
   ]
  },
  {
   "cell_type": "markdown",
   "metadata": {},
   "source": [
    "<div class=\"alert alert-info\"/></div>"
   ]
  },
  {
   "cell_type": "markdown",
   "metadata": {},
   "source": [
    "- ## [Git Hub](www.github.com)\n",
    "\n",
    "This is a platform you can use to see what people have worked on.\n",
    "\n",
    "You are able to fork what people have done and use it on your laptop or machine to practice the use of some \n",
    "techniques and other things.\n",
    "\n",
    "### In order to get this teaching material you need to get a github account so that we can move together.\n",
    "\n",
    "1- Get a github account for free\n",
    "2- Download git and install it on your machine\n",
    "3- Clone the repository like this:\n",
    "\n",
    "#### In Jupyter Notebook:\n",
    "```\n",
    "!git clone https://github.com/atwine/ACE-Short-Course-IDI-10th-13th-Dec-2019.git\n",
    "```\n",
    "\n",
    "#### On command line use this command:\n",
    "\n",
    "```\n",
    "git clone https://github.com/atwine/ACE-Short-Course-IDI-10th-13th-Dec-2019.git\n",
    "```\n",
    "\n",
    "<img src='github.png'/>"
   ]
  },
  {
   "cell_type": "markdown",
   "metadata": {},
   "source": [
    "<div class=\"alert alert-info\"/></div>"
   ]
  },
  {
   "cell_type": "markdown",
   "metadata": {},
   "source": [
    "<div class=\"alert alert-block alert-info\"/>\n",
    "\n",
    "# What you need to learn:-\n",
    "\n",
    "As you go through the sites there are some skills you should look out for, we are going to look at some below."
   ]
  },
  {
   "cell_type": "code",
   "execution_count": null,
   "metadata": {},
   "outputs": [],
   "source": []
  },
  {
   "cell_type": "markdown",
   "metadata": {},
   "source": [
    "\n",
    "## What you need to have to get started:-\n",
    "\n",
    "Let us look at some of the things we need to get started, now that you have a new computer what do you do?\n",
    "\n",
    "- ## [Install Python](https://www.python.org/)\n",
    "Python is a programming language that is one of the mostly used in Machine Learning and Artificial intelligence.\n",
    "\n",
    "It is fast, easy to use (the systax is simple to understand) and is open source (anyone can use it).\n",
    "\n",
    "Normally python comes installed on your pc, but there are upgrades, in case of that you need to download the latest from the python official website.\n",
    "\n",
    "<img src='python.png'/>\n",
    "\n",
    "- ### An Environment:\n",
    " In order to start coding you need an environment where you will write your code. The environments differ depending on choice. I am going to list two different ones.\n",
    " \n",
    " ### Anaconda (Python & R)\n",
    " [Link](www.anacond.org) with this environment you are able to write both Python and R code for machine learning and deep learning.\n",
    " \n",
    " <img src='anaconda.png'/>\n",
    " \n",
    " After installing this software you will be able to access Jupyter Notebook local server so that you will be able to work with RStudio all intalled in one navigator.\n",
    " \n",
    " ### R Studio\n",
    " You are able to launch R Studio from anaconda navigator (plus many other editors). With this environment you are able to work with R which is an alternative for python.\n",
    " \n",
    " <img src='rstudio.png'/>\n",
    " \n",
    " ### Anaconda Navigator\n",
    " \n",
    "  <img src='anaconda navigator.png'/>\n",
    "  \n",
    "  \n",
    "## Jupyter notebooks\n",
    "\n",
    "What problem does jupyter solve: for a newbie to this arena you can get intimidated with setting up an environment for AI and ML. In a few steps with Jupyter you can have a working server and frontend web based application to help you get started quickly!\n",
    "\n",
    "Jupyter is a free, open-source, interactive web tool known as a computational notebook, which researchers can use to combine software code, computational output, explanatory text and multimedia resources in a single document.\n",
    "\n",
    "The Jupyter notebook has two components. Users input programming code or text in rectangular cells in a front-end web page. The browser then passes that code to a back-end ‘kernel’, which runs the code and returns the results\n",
    "\n",
    "Here is a great [article on Jupyter Notebooks](https://www.analyticsvidhya.com/blog/2018/05/starters-guide-jupyter-notebook/)\n",
    "\n",
    "<img src='Jupyternotebooks.png'/>\n",
    "\n",
    "### [Interesting Jupyter Notebooks](https://github.com/jupyter/jupyter/wiki/A-gallery-of-interesting-Jupyter-Notebooks#statistics-machine-learning-and-data-science)\n",
    "\n",
    "You can also build widgets with in Jupyter Notebooks and many other things.\n",
    "\n",
    "<img src='Jupyterwidget.gif'/>"
   ]
  },
  {
   "cell_type": "markdown",
   "metadata": {},
   "source": [
    "<div class=\"alert alert-block alert-success\"/>\n"
   ]
  },
  {
   "cell_type": "markdown",
   "metadata": {},
   "source": [
    "# Microsoft Azure\n",
    "\n",
    "This is a Microsoft Platform that can also be used for Machine Learning"
   ]
  },
  {
   "cell_type": "code",
   "execution_count": 2,
   "metadata": {},
   "outputs": [
    {
     "data": {
      "text/html": [
       "<iframe width=\"650\" height=\"400\" src=\"https://www.youtube.com/embed/csFDLUYnq4w\" frameborder=\"0\" allow=\"accelerometer; autoplay; encrypted-media; gyroscope; picture-in-picture\" allowfullscreen></iframe>"
      ],
      "text/plain": [
       "<IPython.core.display.HTML object>"
      ]
     },
     "execution_count": 2,
     "metadata": {},
     "output_type": "execute_result"
    }
   ],
   "source": [
    "HTML('<iframe width=\"650\" height=\"400\" src=\"https://www.youtube.com/embed/csFDLUYnq4w\" frameborder=\"0\" allow=\"accelerometer; autoplay; encrypted-media; gyroscope; picture-in-picture\" allowfullscreen></iframe>')\n"
   ]
  },
  {
   "cell_type": "markdown",
   "metadata": {},
   "source": [
    "# Amazon Sagemaker"
   ]
  },
  {
   "cell_type": "code",
   "execution_count": 3,
   "metadata": {
    "scrolled": false
   },
   "outputs": [
    {
     "data": {
      "text/html": [
       "<iframe width=\"650\" height=\"400\" src=\"https://www.youtube.com/embed/R0vC31OXt-g\" frameborder=\"0\" allow=\"accelerometer; autoplay; encrypted-media; gyroscope; picture-in-picture\" allowfullscreen></iframe>"
      ],
      "text/plain": [
       "<IPython.core.display.HTML object>"
      ]
     },
     "execution_count": 3,
     "metadata": {},
     "output_type": "execute_result"
    }
   ],
   "source": [
    "HTML('<iframe width=\"650\" height=\"400\" src=\"https://www.youtube.com/embed/R0vC31OXt-g\" frameborder=\"0\" allow=\"accelerometer; autoplay; encrypted-media; gyroscope; picture-in-picture\" allowfullscreen></iframe>')"
   ]
  },
  {
   "cell_type": "markdown",
   "metadata": {},
   "source": [
    "# Google Cloud Datalab"
   ]
  },
  {
   "cell_type": "code",
   "execution_count": 4,
   "metadata": {},
   "outputs": [
    {
     "data": {
      "text/html": [
       "<iframe width=\"650\" height=\"400\" src=\"https://www.youtube.com/embed/Eu57QKNHaiY\" frameborder=\"0\" allow=\"accelerometer; autoplay; encrypted-media; gyroscope; picture-in-picture\" allowfullscreen></iframe>"
      ],
      "text/plain": [
       "<IPython.core.display.HTML object>"
      ]
     },
     "execution_count": 4,
     "metadata": {},
     "output_type": "execute_result"
    }
   ],
   "source": [
    "HTML('<iframe width=\"650\" height=\"400\" src=\"https://www.youtube.com/embed/Eu57QKNHaiY\" frameborder=\"0\" allow=\"accelerometer; autoplay; encrypted-media; gyroscope; picture-in-picture\" allowfullscreen></iframe>')"
   ]
  },
  {
   "cell_type": "markdown",
   "metadata": {},
   "source": [
    "<div class=\"alert alert-block alert-success\"/>"
   ]
  },
  {
   "cell_type": "code",
   "execution_count": null,
   "metadata": {},
   "outputs": [],
   "source": []
  },
  {
   "cell_type": "markdown",
   "metadata": {},
   "source": [
    "<div class=\"alert alert-block alert-success\"/>"
   ]
  },
  {
   "cell_type": "code",
   "execution_count": null,
   "metadata": {},
   "outputs": [],
   "source": []
  },
  {
   "cell_type": "code",
   "execution_count": null,
   "metadata": {},
   "outputs": [],
   "source": []
  },
  {
   "cell_type": "markdown",
   "metadata": {},
   "source": [
    "<div class=\"alert alert-block alert-success\"/>"
   ]
  },
  {
   "cell_type": "code",
   "execution_count": null,
   "metadata": {},
   "outputs": [],
   "source": []
  },
  {
   "cell_type": "code",
   "execution_count": null,
   "metadata": {},
   "outputs": [],
   "source": []
  }
 ],
 "metadata": {
  "kernelspec": {
   "display_name": "Python 3",
   "language": "python",
   "name": "python3"
  },
  "language_info": {
   "codemirror_mode": {
    "name": "ipython",
    "version": 3
   },
   "file_extension": ".py",
   "mimetype": "text/x-python",
   "name": "python",
   "nbconvert_exporter": "python",
   "pygments_lexer": "ipython3",
   "version": "3.7.4"
  },
  "varInspector": {
   "cols": {
    "lenName": 16,
    "lenType": 16,
    "lenVar": 40
   },
   "kernels_config": {
    "python": {
     "delete_cmd_postfix": "",
     "delete_cmd_prefix": "del ",
     "library": "var_list.py",
     "varRefreshCmd": "print(var_dic_list())"
    },
    "r": {
     "delete_cmd_postfix": ") ",
     "delete_cmd_prefix": "rm(",
     "library": "var_list.r",
     "varRefreshCmd": "cat(var_dic_list()) "
    }
   },
   "types_to_exclude": [
    "module",
    "function",
    "builtin_function_or_method",
    "instance",
    "_Feature"
   ],
   "window_display": false
  }
 },
 "nbformat": 4,
 "nbformat_minor": 2
}
